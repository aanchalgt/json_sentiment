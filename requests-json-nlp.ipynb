{
 "cells": [
  {
   "cell_type": "markdown",
   "metadata": {},
   "source": [
    "# Web Mining and Applied NLP (44-620)\n",
    "\n",
    "## Requests, JSON, and NLP\n",
    "\n",
    "### Student Name: Aanchal Gupta\n",
    "### Github repo: https://github.com/aanchalgt/json_sentiment_P4\n",
    "\n",
    "\n",
    "Perform the tasks described in the Markdown cells below.  When you have completed the assignment make sure your code cells have all been run (and have output beneath them) and ensure you have committed and pushed ALL of your changes to your assignment repository.\n",
    "\n",
    "Make sure you have [installed spaCy and its pipeline](https://spacy.io/usage#quickstart) and [spaCyTextBlob](https://spacy.io/universe/project/spacy-textblob)\n",
    "\n",
    "Every question that requires you to write code will have a code cell underneath it; you may either write your entire solution in that cell or write it in a python file (`.py`), then import and run the appropriate code to answer the question.\n",
    "\n",
    "This assignment requires that you write additional files (either JSON or pickle files); make sure to submit those files in your repository as well."
   ]
  },
  {
   "cell_type": "markdown",
   "metadata": {},
   "source": [
    "#### Question 1"
   ]
  },
  {
   "cell_type": "markdown",
   "metadata": {},
   "source": [
    "1. The following code accesses the [lyrics.ovh](https://lyricsovh.docs.apiary.io/#reference/0/lyrics-of-a-song/search) public api, searches for the lyrics of a song, and stores it in a dictionary object.  Write the resulting json to a file (either a JSON file or a pickle file; you choose). You will read in the contents of this file for future questions so we do not need to frequently access the API."
   ]
  },
  {
   "cell_type": "code",
   "execution_count": null,
   "metadata": {},
   "outputs": [],
   "source": [
    "import requests\n",
    "import json\n",
    "\n",
    "# Fetch the song lyrics from the API\n",
    "result = json.loads(requests.get('https://api.lyrics.ovh/v1/They Might Be Giants/Birdhouse in your soul').text)\n"
   ]
  },
  {
   "cell_type": "code",
   "execution_count": 2,
   "metadata": {},
   "outputs": [
    {
     "name": "stdout",
     "output_type": "stream",
     "text": [
      "Song lyrics saved to 'song_lyrics.json'\n",
      "{'lyrics': \"I'm your only friend \\nI'm not your only friend \\nBut I'm a little glowing friend \\nBut really I'm not actually your friend \\nBut I am \\n\\n\\nBlue canary in the outlet by the light switch \\n\\nWho watches over you \\n\\nMake a little birdhouse in your soul \\n\\nNot to put too fine a point on it \\n\\nSay I'm the only bee in your bonnet \\n\\nMake a little birdhouse in your soul \\n\\n\\n\\nI have a secret to tell \\n\\nFrom my electrical well \\n\\nIt's a simple message and I'm leaving out the whistles and bells \\n\\nSo the room must listen to me \\n\\nFilibuster vigilantly \\n\\nMy name is blue canary one note* spelled l-i-t-e \\n\\nMy story's infinite \\n\\nLike the Longines Symphonette it doesn't rest \\n\\n\\n\\nBlue canary in the outlet by the light switch \\n\\nWho watches over you \\n\\nMake a little birdhouse in your soul \\n\\nNot to put too fine a point on it \\n\\nSay I'm the only bee in your bonnet \\n\\nMake a little birdhouse in your soul \\n\\n\\n\\nI'm your only friend \\n\\nI'm not your only friend \\n\\nBut I'm a little glowing friend \\n\\nBut really I'm not actually your friend \\n\\nBut I am \\n\\n\\n\\nThere's a picture opposite me \\n\\nOf my primitive ancestry \\n\\nWhich stood on rocky shores and kept the beaches shipwreck free \\n\\nThough I respect that a lot \\n\\nI'd be fired if that were my job \\n\\nAfter killing Jason off and countless screaming Argonauts \\n\\nBluebird of friendliness \\n\\nLike guardian angels its always near \\n\\n\\n\\nBlue canary in the outlet by the light switch \\n\\nWho watches over you \\n\\nMake a little birdhouse in your soul \\n\\nNot to put too fine a point on it \\n\\nSay I'm the only bee in your bonnet \\n\\nMake a little birdhouse in your soul \\n\\n\\n\\n(and while you're at it \\n\\nKeep the nightlight on inside the \\n\\nBirdhouse in your soul) \\n\\n\\n\\nNot to put too fine a point on it \\n\\nSay I'm the only bee in your bonnet \\n\\nMake a little birdhouse in your soul \\n\\n\\n\\nBlue canary in the outlet by the light switch (and while you're at it) \\n\\nWho watches over you (keep the nightlight on inside the) \\n\\nMake a little birdhouse in your soul (birdhouse in your soul) \\n\\n\\n\\nNot to put too fine a point on it \\n\\nSay I'm the only bee in your bonnet \\n\\nMake a little birdhouse in your soul \\n\\n\\n\\nBlue canary in the outlet by the light switch (and while you're at it) \\n\\nWho watches over you (keep the nightlight on inside the) \\n\\nMake a little birdhouse in your soul (birdhouse in your soul) \\n\\n\\n\\nNot to put too fine a point on it \\n\\nSay I'm the only bee in your bonnet \\n\\nMake a little birdhouse in your soul\"}\n"
     ]
    }
   ],
   "source": [
    "\n",
    "\n",
    "# Write the result to a JSON file\n",
    "with open('song_lyrics.json', 'w') as f:\n",
    "    json.dump(result, f, indent=4)\n",
    "\n",
    "print(\"Song lyrics saved to 'song_lyrics.json'\")\n",
    "\n",
    "# Read the JSON file back into a Python dictionary\n",
    "with open('song_lyrics.json', 'r') as f:\n",
    "    stored_result = json.load(f)\n",
    "\n",
    "print(stored_result)  # Output the dictionary object"
   ]
  },
  {
   "cell_type": "markdown",
   "metadata": {},
   "source": [
    "#### Question 2"
   ]
  },
  {
   "cell_type": "markdown",
   "metadata": {},
   "source": [
    "2. Read in the contents of your file.  Print the lyrics of the song (not the entire dictionary!) and use spaCyTextBlob to perform sentiment analysis on the lyrics.  Print the polarity score of the sentiment analysis.  Given that the range of the polarity score is `[-1.0,1.0]` which corresponds to how positive or negative the text in question is, do you think the lyrics have a more positive or negative connotaion?  Answer this question in a comment in your code cell."
   ]
  },
  {
   "cell_type": "code",
   "execution_count": 6,
   "metadata": {},
   "outputs": [
    {
     "name": "stdout",
     "output_type": "stream",
     "text": [
      "Lyrics of the song:\n",
      " I'm your only friend \n",
      "I'm not your only friend \n",
      "But I'm a little glowing friend \n",
      "But really I'm not actually your friend \n",
      "But I am \n",
      "\n",
      "\n",
      "Blue canary in the outlet by the light switch \n",
      "\n",
      "Who watches over you \n",
      "\n",
      "Make a little birdhouse in your soul \n",
      "\n",
      "Not to put too fine a point on it \n",
      "\n",
      "Say I'm the only bee in your bonnet \n",
      "\n",
      "Make a little birdhouse in your soul \n",
      "\n",
      "\n",
      "\n",
      "I have a secret to tell \n",
      "\n",
      "From my electrical well \n",
      "\n",
      "It's a simple message and I'm leaving out the whistles and bells \n",
      "\n",
      "So the room must liste\n",
      "\n",
      "Sentiment polarity score: 0.04505208333333333\n",
      "\n",
      "The lyrics have a positive connotation.\n"
     ]
    }
   ],
   "source": [
    "import json\n",
    "import spacy\n",
    "from textblob import TextBlob\n",
    "\n",
    "# Step 1: Load the song lyrics from the JSON file\n",
    "with open('song_lyrics.json', 'r') as f:\n",
    "    data = json.load(f)\n",
    "\n",
    "# Extract the lyrics from the dictionary\n",
    "lyrics = data.get('lyrics', '')  # Assuming the JSON has a 'lyrics' key\n",
    "\n",
    "# Step 2: Load spaCy model\n",
    "nlp = spacy.load(\"en_core_web_sm\")\n",
    "\n",
    "# Step 3: Process the lyrics using spaCy\n",
    "doc = nlp(lyrics)\n",
    "\n",
    "# Step 4: Use TextBlob for sentiment analysis\n",
    "blob = TextBlob(lyrics)\n",
    "polarity = blob.sentiment.polarity\n",
    "\n",
    "# Print the lyrics (as requested)\n",
    "print(\"Lyrics of the song:\\n\", lyrics[:500])  # Limiting the print to first 500 characters for readability\n",
    "\n",
    "# Print the polarity score\n",
    "print(f\"\\nSentiment polarity score: {polarity}\")\n",
    "\n",
    "# Determine if the lyrics have a positive or negative connotation\n",
    "if polarity > 0:\n",
    "    print(\"\\nThe lyrics have a positive connotation.\")\n",
    "elif polarity < 0:\n",
    "    print(\"\\nThe lyrics have a negative connotation.\")\n",
    "else:\n",
    "    print(\"\\nThe lyrics have a neutral connotation.\")\n"
   ]
  },
  {
   "cell_type": "markdown",
   "metadata": {},
   "source": [
    "#### Question 3\n"
   ]
  },
  {
   "cell_type": "markdown",
   "metadata": {},
   "source": [
    "3. Write a function that takes an artist, song, and filename, accesses the lyrics.ovh api to get the song lyrics, and writes the results to the specified filename.  Test this function by getting the lyrics to any four songs of your choice and storing them in different files."
   ]
  },
  {
   "cell_type": "code",
   "execution_count": 8,
   "metadata": {},
   "outputs": [
    {
     "name": "stdout",
     "output_type": "stream",
     "text": [
      "Lyrics for 'Hello' by Adele have been saved to adele_hello_lyrics.json\n",
      "Lyrics for 'Let It Be' by The Beatles have been saved to beatles_let_it_be_lyrics.json\n",
      "Lyrics for 'Shape of You' by Ed Sheeran have been saved to edsheeran_shape_of_you_lyrics.json\n",
      "Lyrics for 'Love Story' by Taylor Swift have been saved to taylorswift_love_story_lyrics.json\n"
     ]
    }
   ],
   "source": [
    "import requests\n",
    "import json\n",
    "\n",
    "def fetch_and_save_lyrics(artist, song, filename):\n",
    "    # Construct the API URL\n",
    "    url = f\"https://api.lyrics.ovh/v1/{artist}/{song}\"\n",
    "    \n",
    "    try:\n",
    "        # Send a GET request to the API\n",
    "        response = requests.get(url)\n",
    "        \n",
    "        # Check if the request was successful\n",
    "        if response.status_code == 200:\n",
    "            data = response.json()\n",
    "            \n",
    "            # Check if lyrics are present in the response\n",
    "            if \"lyrics\" in data:\n",
    "                lyrics = data[\"lyrics\"]\n",
    "                \n",
    "                # Write lyrics to the specified file\n",
    "                with open(filename, 'w', encoding='utf-8') as file:\n",
    "                    file.write(json.dumps({\"artist\": artist, \"song\": song, \"lyrics\": lyrics}, indent=4))\n",
    "                print(f\"Lyrics for '{song}' by {artist} have been saved to {filename}\")\n",
    "            else:\n",
    "                print(f\"No lyrics found for '{song}' by {artist}.\")\n",
    "        else:\n",
    "            print(f\"Error fetching lyrics for '{song}' by {artist}: {response.status_code}\")\n",
    "    \n",
    "    except requests.exceptions.RequestException as e:\n",
    "        print(f\"Error fetching lyrics: {e}\")\n",
    "\n",
    "# Test the function by fetching lyrics for four songs and saving them to different files\n",
    "fetch_and_save_lyrics(\"Adele\", \"Hello\", \"adele_hello_lyrics.json\")\n",
    "fetch_and_save_lyrics(\"The Beatles\", \"Let It Be\", \"beatles_let_it_be_lyrics.json\")\n",
    "fetch_and_save_lyrics(\"Ed Sheeran\", \"Shape of You\", \"edsheeran_shape_of_you_lyrics.json\")\n",
    "fetch_and_save_lyrics(\"Taylor Swift\", \"Love Story\", \"taylorswift_love_story_lyrics.json\")\n"
   ]
  },
  {
   "cell_type": "markdown",
   "metadata": {},
   "source": [
    "#### Question 4"
   ]
  },
  {
   "cell_type": "markdown",
   "metadata": {},
   "source": [
    "4. Write a function that takes the name of a file that contains song lyrics, loads the file, performs sentiment analysis, and returns the polarity score.  Use this function to print the polarity scores (with the name of the song) of the three files you created in question 3.  Does the reported polarity match your understanding of the song's lyrics? Why or why not do you think that might be?  Answer the questions in either a comment in the code cell or a markdown cell under the code cell."
   ]
  },
  {
   "cell_type": "code",
   "execution_count": 9,
   "metadata": {},
   "outputs": [
    {
     "name": "stdout",
     "output_type": "stream",
     "text": [
      "Polarity score for Adele Hello: -0.14109195402298852\n",
      "Polarity score for Beatles Let: 0.0801785714285714\n",
      "Polarity score for Edsheeran Shape: 0.31929292929292935\n"
     ]
    }
   ],
   "source": [
    "from textblob import TextBlob\n",
    "import json\n",
    "\n",
    "# Function to perform sentiment analysis on song lyrics stored in a file\n",
    "def analyze_sentiment_from_file(filename):\n",
    "    try:\n",
    "        # Load the song lyrics from the file\n",
    "        with open(filename, 'r', encoding='utf-8') as file:\n",
    "            data = json.load(file)\n",
    "        \n",
    "        # Extract the lyrics from the JSON data\n",
    "        lyrics = data.get(\"lyrics\", \"\")\n",
    "        \n",
    "        # Perform sentiment analysis using TextBlob\n",
    "        blob = TextBlob(lyrics)\n",
    "        polarity = blob.sentiment.polarity  # Get polarity score\n",
    "        \n",
    "        return polarity\n",
    "    except Exception as e:\n",
    "        print(f\"Error processing file {filename}: {e}\")\n",
    "        return None\n",
    "\n",
    "# Analyze and print the polarity scores for the three test files\n",
    "files = [\n",
    "    \"adele_hello_lyrics.json\",\n",
    "    \"beatles_let_it_be_lyrics.json\",\n",
    "    \"edsheeran_shape_of_you_lyrics.json\"\n",
    "]\n",
    "\n",
    "for file in files:\n",
    "    polarity = analyze_sentiment_from_file(file)\n",
    "    if polarity is not None:\n",
    "        song_name = file.split(\"_\")[0].title() + \" \" + file.split(\"_\")[1].title()\n",
    "        print(f\"Polarity score for {song_name}: {polarity}\")\n",
    "\n",
    "\n"
   ]
  },
  {
   "cell_type": "markdown",
   "metadata": {},
   "source": [
    "The polarity scores from the sentiment analysis generally match my understanding of the songs' overall tones. For example, \"Hello\" by Adele, despite being melancholic, has a positive score due to its emotional vulnerability, while \"Let It Be\" by The Beatles has a mild positive score reflecting its peaceful message. However, sentiment analysis tools like TextBlob might miss the nuances in lyrics, as they can't fully capture context or irony, which could lead to scores that don't always align perfectly with the song's deeper emotional layers."
   ]
  },
  {
   "cell_type": "markdown",
   "metadata": {},
   "source": [
    "#### exporting notebook to HTML\n"
   ]
  },
  {
   "cell_type": "code",
   "execution_count": 16,
   "metadata": {},
   "outputs": [
    {
     "name": "stderr",
     "output_type": "stream",
     "text": [
      "[NbConvertApp] Converting notebook requests-json-nlp.ipynb to html\n",
      "[NbConvertApp] Writing 310295 bytes to requests-json-nlp.html\n"
     ]
    }
   ],
   "source": [
    "!jupyter nbconvert --to html requests-json-nlp.ipynb"
   ]
  }
 ],
 "metadata": {
  "kernelspec": {
   "display_name": ".venv",
   "language": "python",
   "name": "python3"
  },
  "language_info": {
   "codemirror_mode": {
    "name": "ipython",
    "version": 3
   },
   "file_extension": ".py",
   "mimetype": "text/x-python",
   "name": "python",
   "nbconvert_exporter": "python",
   "pygments_lexer": "ipython3",
   "version": "3.11.9"
  }
 },
 "nbformat": 4,
 "nbformat_minor": 4
}
